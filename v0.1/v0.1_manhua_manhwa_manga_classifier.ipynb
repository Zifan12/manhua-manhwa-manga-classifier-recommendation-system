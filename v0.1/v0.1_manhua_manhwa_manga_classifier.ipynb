{
 "cells": [
  {
   "cell_type": "code",
   "execution_count": 1,
   "id": "397aba29-1eaf-47ec-a612-f2a4a4f571cf",
   "metadata": {},
   "outputs": [
    {
     "name": "stdout",
     "output_type": "stream",
     "text": [
      "Requirement already satisfied: icrawler in c:\\users\\zifan\\anaconda3\\envs\\projectm\\lib\\site-packages (0.6.10)\n",
      "Requirement already satisfied: beautifulsoup4 in c:\\users\\zifan\\anaconda3\\envs\\projectm\\lib\\site-packages (from icrawler) (4.13.4)\n",
      "Requirement already satisfied: bs4 in c:\\users\\zifan\\anaconda3\\envs\\projectm\\lib\\site-packages (from icrawler) (0.0.2)\n",
      "Requirement already satisfied: lxml in c:\\users\\zifan\\anaconda3\\envs\\projectm\\lib\\site-packages (from icrawler) (6.0.0)\n",
      "Requirement already satisfied: pillow in c:\\users\\zifan\\anaconda3\\envs\\projectm\\lib\\site-packages (from icrawler) (11.1.0)\n",
      "Requirement already satisfied: pyyaml in c:\\users\\zifan\\anaconda3\\envs\\projectm\\lib\\site-packages (from icrawler) (6.0.2)\n",
      "Requirement already satisfied: requests in c:\\users\\zifan\\anaconda3\\envs\\projectm\\lib\\site-packages (from icrawler) (2.32.4)\n",
      "Requirement already satisfied: six in c:\\users\\zifan\\anaconda3\\envs\\projectm\\lib\\site-packages (from icrawler) (1.17.0)\n",
      "Requirement already satisfied: soupsieve>1.2 in c:\\users\\zifan\\anaconda3\\envs\\projectm\\lib\\site-packages (from beautifulsoup4->icrawler) (2.5)\n",
      "Requirement already satisfied: typing-extensions>=4.0.0 in c:\\users\\zifan\\anaconda3\\envs\\projectm\\lib\\site-packages (from beautifulsoup4->icrawler) (4.12.2)\n",
      "Requirement already satisfied: charset_normalizer<4,>=2 in c:\\users\\zifan\\anaconda3\\envs\\projectm\\lib\\site-packages (from requests->icrawler) (3.3.2)\n",
      "Requirement already satisfied: idna<4,>=2.5 in c:\\users\\zifan\\anaconda3\\envs\\projectm\\lib\\site-packages (from requests->icrawler) (3.7)\n",
      "Requirement already satisfied: urllib3<3,>=1.21.1 in c:\\users\\zifan\\anaconda3\\envs\\projectm\\lib\\site-packages (from requests->icrawler) (2.5.0)\n",
      "Requirement already satisfied: certifi>=2017.4.17 in c:\\users\\zifan\\anaconda3\\envs\\projectm\\lib\\site-packages (from requests->icrawler) (2025.8.3)\n",
      "Requirement already satisfied: ImageHash in c:\\users\\zifan\\anaconda3\\envs\\projectm\\lib\\site-packages (4.3.2)\n",
      "Requirement already satisfied: PyWavelets in c:\\users\\zifan\\anaconda3\\envs\\projectm\\lib\\site-packages (from ImageHash) (1.9.0)\n",
      "Requirement already satisfied: numpy in c:\\users\\zifan\\anaconda3\\envs\\projectm\\lib\\site-packages (from ImageHash) (1.26.4)\n",
      "Requirement already satisfied: pillow in c:\\users\\zifan\\anaconda3\\envs\\projectm\\lib\\site-packages (from ImageHash) (11.1.0)\n",
      "Requirement already satisfied: scipy in c:\\users\\zifan\\anaconda3\\envs\\projectm\\lib\\site-packages (from ImageHash) (1.16.1)\n"
     ]
    }
   ],
   "source": [
    "!pip install icrawler\n",
    "!pip install ImageHash\n"
   ]
  },
  {
   "cell_type": "code",
   "execution_count": 2,
   "id": "fab3449d-c011-40c1-93fb-e674d056053b",
   "metadata": {},
   "outputs": [
    {
     "name": "stdout",
     "output_type": "stream",
     "text": [
      "2.1.2\n",
      "CUDA available: True\n",
      "NVIDIA GeForce RTX 4070 Laptop GPU\n"
     ]
    }
   ],
   "source": [
    "from icrawler.builtin import BingImageCrawler, GoogleImageCrawler\n",
    "\n",
    "from pathlib import Path\n",
    "\n",
    "\n",
    "import torch\n",
    "print(torch.__version__)\n",
    "print(\"CUDA available:\", torch.cuda.is_available())\n",
    "if torch.cuda.is_available():\n",
    "    print(torch.cuda.get_device_name(0))\n",
    "    \n"
   ]
  },
  {
   "cell_type": "code",
   "execution_count": 8,
   "id": "a17cb47c-31c2-499e-821a-e5e0ecd99ae2",
   "metadata": {},
   "outputs": [],
   "source": [
    "\n",
    "root = Path(\"data/raw\") \n",
    "path = root\n",
    "\n",
    "(root / \"manga\").mkdir(parents=True, exist_ok=True)\n",
    "(root / \"manhwa\").mkdir(parents=True, exist_ok=True) \n",
    "(root / \"manhua\").mkdir(parents=True, exist_ok=True)"
   ]
  },
  {
   "cell_type": "code",
   "execution_count": 9,
   "id": "b526aafd-93a1-45bf-b8cd-b23825a57902",
   "metadata": {},
   "outputs": [],
   "source": [
    "queries = {\n",
    "    \"manga\": [\n",
    "        'manga page -manhwa -manhua',\n",
    "        'manga panel site:ja.wikipedia.org'\n",
    "    ],\n",
    "    \"manhwa\": [\n",
    "        'manhwa panel -manhua -manga',\n",
    "        'webtoon panel -manga -manhua',\n",
    "        '웹툰 패널 site:comic.naver.com',\n",
    "        'webtoon panel site:webtoons.com -manga -manhua'\n",
    "    ],\n",
    "    \"manhua\": [\n",
    "        'manhua panel -manhwa -manga',\n",
    "        '国漫 漫画 分镜 -webtoon',\n",
    "        '中国 漫画 分镜 -webtoon',\n",
    "        'manhua site:bilibili.com -webtoon -manhwa -manga'\n",
    "    ],\n",
    "}"
   ]
  },
  {
   "cell_type": "code",
   "execution_count": 10,
   "id": "a03322e0-e66c-4aad-ab66-4e201f51e74b",
   "metadata": {},
   "outputs": [],
   "source": [
    "def crawl_images(label, n_per_query): \n",
    "    save_path = root / label\n",
    "    if save_path.exists() and any(save_path.iterdir()):\n",
    "        print(f\"Images for '{label}' already exist. Skipping download.\")\n",
    "        return\n",
    "        \n",
    "    for q in queries[label]: \n",
    "        crawler = BingImageCrawler(storage={'root_dir': str(root/label)})\n",
    "        crawler.crawl(\n",
    "            keyword=q,\n",
    "            max_num=n_per_query,\n",
    "            min_size=(256, 256),  \n",
    "            file_idx_offset='auto'\n",
    "        )"
   ]
  },
  {
   "cell_type": "code",
   "execution_count": 11,
   "id": "035f9e6f-9b99-449f-bfac-2c71319e699c",
   "metadata": {},
   "outputs": [
    {
     "name": "stdout",
     "output_type": "stream",
     "text": [
      "Images for 'manga' already exist. Skipping download.\n",
      "Images for 'manhwa' already exist. Skipping download.\n",
      "Images for 'manhua' already exist. Skipping download.\n"
     ]
    }
   ],
   "source": [
    "for label in queries:\n",
    "    crawl_images(label, n_per_query=30)"
   ]
  },
  {
   "cell_type": "code",
   "execution_count": 37,
   "id": "1aea8e20-cd59-42f4-a46d-fe7194acbc32",
   "metadata": {},
   "outputs": [
    {
     "data": {
      "text/html": [
       "\n",
       "<style>\n",
       "    /* Turns off some styling */\n",
       "    progress {\n",
       "        /* gets rid of default border in Firefox and Opera. */\n",
       "        border: none;\n",
       "        /* Needs to be in here for Safari polyfill so background images work as expected. */\n",
       "        background-size: auto;\n",
       "    }\n",
       "    progress:not([value]), progress:not([value])::-webkit-progress-bar {\n",
       "        background: repeating-linear-gradient(45deg, #7e7e7e, #7e7e7e 10px, #5c5c5c 10px, #5c5c5c 20px);\n",
       "    }\n",
       "    .progress-bar-interrupted, .progress-bar-interrupted::-webkit-progress-bar {\n",
       "        background: #F44336;\n",
       "    }\n",
       "</style>\n"
      ],
      "text/plain": [
       "<IPython.core.display.HTML object>"
      ]
     },
     "metadata": {},
     "output_type": "display_data"
    },
    {
     "data": {
      "text/html": [
       "<table border=\"1\" class=\"dataframe\">\n",
       "  <thead>\n",
       "    <tr style=\"text-align: left;\">\n",
       "      <th>epoch</th>\n",
       "      <th>train_loss</th>\n",
       "      <th>valid_loss</th>\n",
       "      <th>accuracy</th>\n",
       "      <th>time</th>\n",
       "    </tr>\n",
       "  </thead>\n",
       "  <tbody>\n",
       "    <tr>\n",
       "      <td>0</td>\n",
       "      <td>1.557265</td>\n",
       "      <td>0.966833</td>\n",
       "      <td>0.666667</td>\n",
       "      <td>00:36</td>\n",
       "    </tr>\n",
       "  </tbody>\n",
       "</table>"
      ],
      "text/plain": [
       "<IPython.core.display.HTML object>"
      ]
     },
     "metadata": {},
     "output_type": "display_data"
    },
    {
     "data": {
      "text/html": [
       "\n",
       "<style>\n",
       "    /* Turns off some styling */\n",
       "    progress {\n",
       "        /* gets rid of default border in Firefox and Opera. */\n",
       "        border: none;\n",
       "        /* Needs to be in here for Safari polyfill so background images work as expected. */\n",
       "        background-size: auto;\n",
       "    }\n",
       "    progress:not([value]), progress:not([value])::-webkit-progress-bar {\n",
       "        background: repeating-linear-gradient(45deg, #7e7e7e, #7e7e7e 10px, #5c5c5c 10px, #5c5c5c 20px);\n",
       "    }\n",
       "    .progress-bar-interrupted, .progress-bar-interrupted::-webkit-progress-bar {\n",
       "        background: #F44336;\n",
       "    }\n",
       "</style>\n"
      ],
      "text/plain": [
       "<IPython.core.display.HTML object>"
      ]
     },
     "metadata": {},
     "output_type": "display_data"
    },
    {
     "data": {
      "text/html": [
       "<table border=\"1\" class=\"dataframe\">\n",
       "  <thead>\n",
       "    <tr style=\"text-align: left;\">\n",
       "      <th>epoch</th>\n",
       "      <th>train_loss</th>\n",
       "      <th>valid_loss</th>\n",
       "      <th>accuracy</th>\n",
       "      <th>time</th>\n",
       "    </tr>\n",
       "  </thead>\n",
       "  <tbody>\n",
       "    <tr>\n",
       "      <td>0</td>\n",
       "      <td>0.934501</td>\n",
       "      <td>0.874977</td>\n",
       "      <td>0.666667</td>\n",
       "      <td>00:34</td>\n",
       "    </tr>\n",
       "    <tr>\n",
       "      <td>1</td>\n",
       "      <td>0.832181</td>\n",
       "      <td>0.679173</td>\n",
       "      <td>0.801282</td>\n",
       "      <td>00:34</td>\n",
       "    </tr>\n",
       "    <tr>\n",
       "      <td>2</td>\n",
       "      <td>0.674094</td>\n",
       "      <td>0.880799</td>\n",
       "      <td>0.782051</td>\n",
       "      <td>00:35</td>\n",
       "    </tr>\n",
       "    <tr>\n",
       "      <td>3</td>\n",
       "      <td>0.565812</td>\n",
       "      <td>0.810484</td>\n",
       "      <td>0.782051</td>\n",
       "      <td>00:35</td>\n",
       "    </tr>\n",
       "    <tr>\n",
       "      <td>4</td>\n",
       "      <td>0.467886</td>\n",
       "      <td>0.802520</td>\n",
       "      <td>0.807692</td>\n",
       "      <td>00:32</td>\n",
       "    </tr>\n",
       "  </tbody>\n",
       "</table>"
      ],
      "text/plain": [
       "<IPython.core.display.HTML object>"
      ]
     },
     "metadata": {},
     "output_type": "display_data"
    }
   ],
   "source": [
    "from PIL import Image, UnidentifiedImageError\n",
    "import imagehash, os\n",
    "from fastai.vision.all import *\n",
    "\n",
    "\n",
    "dls = DataBlock(\n",
    "    blocks=(ImageBlock, CategoryBlock),\n",
    "    get_items=get_image_files,\n",
    "    splitter=RandomSplitter(valid_pct=0.2, seed=42),\n",
    "    get_y=parent_label,\n",
    "    item_tfms=Resize(460),         # presize\n",
    "    batch_tfms=[*aug_transforms(size=224), Normalize.from_stats(*imagenet_stats)]\n",
    ").dataloaders(path, bs=32)\n",
    "\n",
    "learn = vision_learner(dls, resnet34, metrics=accuracy)\n",
    "learn.fine_tune(5)   "
   ]
  },
  {
   "cell_type": "code",
   "execution_count": 30,
   "id": "adda7a1e-0290-45bf-92d0-285d4095cb0a",
   "metadata": {},
   "outputs": [
    {
     "name": "stdout",
     "output_type": "stream",
     "text": [
      "['manga', 'manhua', 'manhwa']\n"
     ]
    }
   ],
   "source": [
    "classes = list(learn.dls.vocab)\n",
    "\n",
    "print(classes)"
   ]
  },
  {
   "cell_type": "code",
   "execution_count": 35,
   "id": "6605d927-3dc5-43a6-b2e4-15bad9402d80",
   "metadata": {},
   "outputs": [],
   "source": [
    "im = PILImage.create(\"data/test/test2_manhwa.jpeg\")"
   ]
  },
  {
   "cell_type": "code",
   "execution_count": 36,
   "id": "560d40c4-292e-49cd-bafe-44dfb5614f5d",
   "metadata": {},
   "outputs": [
    {
     "data": {
      "text/html": [
       "\n",
       "<style>\n",
       "    /* Turns off some styling */\n",
       "    progress {\n",
       "        /* gets rid of default border in Firefox and Opera. */\n",
       "        border: none;\n",
       "        /* Needs to be in here for Safari polyfill so background images work as expected. */\n",
       "        background-size: auto;\n",
       "    }\n",
       "    progress:not([value]), progress:not([value])::-webkit-progress-bar {\n",
       "        background: repeating-linear-gradient(45deg, #7e7e7e, #7e7e7e 10px, #5c5c5c 10px, #5c5c5c 20px);\n",
       "    }\n",
       "    .progress-bar-interrupted, .progress-bar-interrupted::-webkit-progress-bar {\n",
       "        background: #F44336;\n",
       "    }\n",
       "</style>\n"
      ],
      "text/plain": [
       "<IPython.core.display.HTML object>"
      ]
     },
     "metadata": {},
     "output_type": "display_data"
    },
    {
     "data": {
      "text/html": [],
      "text/plain": [
       "<IPython.core.display.HTML object>"
      ]
     },
     "metadata": {},
     "output_type": "display_data"
    },
    {
     "name": "stdout",
     "output_type": "stream",
     "text": [
      "This is a: manhua.\n",
      "Probability it's a manga: 0.1245\n",
      "Probability it's a manhua: 0.6890\n",
      "Probability it's a manhwa: 0.1865\n"
     ]
    }
   ],
   "source": [
    "predicted_class,_,probs = learn.predict(im)\n",
    "# is_bird,_,probs = learn.predict(PILImage.create('forest000001.png'))\n",
    "print(f\"This is a: {predicted_class}.\")\n",
    "predicted_idx = classes.index(predicted_class)\n",
    "# print(f\"Probability it's a {predicted_class}: {probs[predicted_idx]:.4f}\")\n",
    "for idx, ele in enumerate(classes):\n",
    "    print(f\"Probability it's a {ele}: {probs[idx]:.4f}\")"
   ]
  },
  {
   "cell_type": "code",
   "execution_count": null,
   "id": "4c97dd95-9ab4-4255-8c4d-7c3bd03a5f86",
   "metadata": {},
   "outputs": [],
   "source": []
  }
 ],
 "metadata": {
  "kernelspec": {
   "display_name": "Python 3 (ipykernel)",
   "language": "python",
   "name": "python3"
  },
  "language_info": {
   "codemirror_mode": {
    "name": "ipython",
    "version": 3
   },
   "file_extension": ".py",
   "mimetype": "text/x-python",
   "name": "python",
   "nbconvert_exporter": "python",
   "pygments_lexer": "ipython3",
   "version": "3.11.13"
  }
 },
 "nbformat": 4,
 "nbformat_minor": 5
}
